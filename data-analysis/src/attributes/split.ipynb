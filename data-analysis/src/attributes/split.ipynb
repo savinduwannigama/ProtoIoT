{
 "cells": [
  {
   "attachments": {},
   "cell_type": "markdown",
   "metadata": {},
   "source": [
    "#### splitting main attributes\n"
   ]
  },
  {
   "cell_type": "code",
   "execution_count": 46,
   "metadata": {},
   "outputs": [],
   "source": [
    "input_data = {'domain name,,': {'babyws.withings.net': 5055, 'fr-eqx-fwd-03.withi': 9, 'us-iweb-fwd-05-lxc-': 1, 'fr-on-fwd-01.within': 1, 'fr-on-vm-02-lxc-05.': 2}, 'number_of_unique_flows': 5068}"
   ]
  },
  {
   "cell_type": "code",
   "execution_count": 47,
   "metadata": {},
   "outputs": [
    {
     "name": "stdout",
     "output_type": "stream",
     "text": [
      "domain name,,|babyws.withings.net|||5055|||||\n",
      "|fr-eqx-fwd-03.withi|||9|||||\n",
      "|us-iweb-fwd-05-lxc-|||1|||||\n",
      "|fr-on-fwd-01.within|||1|||||\n",
      "|fr-on-vm-02-lxc-05.|||2|||||\n",
      "number_of_unique_flows||||5068|||||\n"
     ]
    }
   ],
   "source": [
    "output_lines = []\n",
    "for key, values in input_data.items():\n",
    "    counter = 0\n",
    "    if isinstance(values, dict):\n",
    "        # output_lines.append(f\"{key}:\")\n",
    "        for sub_key, value in values.items():\n",
    "            if counter > 0:\n",
    "                output_lines.append(f\"{''}|{sub_key}|||{value}|||||\")\n",
    "            else:\n",
    "                output_lines.append(f\"{key}|{sub_key}|||{value}|||||\")\n",
    "                counter += 1\n",
    "    else:\n",
    "        output_lines.append(f\"{key}||||{values}|||||\")\n",
    "\n",
    "output_text = \"\\n\".join(output_lines)\n",
    "print(output_text)\n"
   ]
  },
  {
   "attachments": {},
   "cell_type": "markdown",
   "metadata": {},
   "source": [
    "#### splitting standard non-standard\n"
   ]
  },
  {
   "cell_type": "code",
   "execution_count": 48,
   "metadata": {},
   "outputs": [],
   "source": [
    "from collections import OrderedDict"
   ]
  },
  {
   "cell_type": "code",
   "execution_count": 49,
   "metadata": {},
   "outputs": [],
   "source": [
    "# input_data = {' dstPort.1': {'standard': {''''''''''''''''nan'''''''''''''''': 1, ''''''''''''''''nan'''''''''''''''': 1, ''''''''''''''''nan'''''''''''''''': 1, ''''''''''''''''nan'''''''''''''''': 1, 50000.0: 4}, 'nonstandard': {1900.0: 7, 50000.0: 293}}, 'cache control': {'standard': {''''''''''''''''nan'''''''''''''''': 4, 'max-age=100': 4}, 'nonstandard': {''''''''''''''''nan'''''''''''''''': 7, 'max-age=86400': 293}}, 'server': {'standard': {''''''''''''''''nan'''''''''''''''': 4, 'Linux/3.14.0 UPnP/1.0 IpBridge/1.15.0': 4}, 'nonstandard': {''''''''''''''''nan'''''''''''''''': 7, 'Unspecified, UPnP/1.0, Unspecified': 293}}, 'response phrase': {'standard': {''''''''''''''''nan'''''''''''''''': 4, 'OK': 4}, 'nonstandard': {''''''''''''''''nan'''''''''''''''': 7, 'OK': 293}}, 'response version': {'standard': {''''''''''''''''nan'''''''''''''''': 4, 'HTTP/1.1': 4}, 'nonstandard': {''''''''''''''''nan'''''''''''''''': 7, 'HTTP/1.1': 293}}, 'unique service name': {'standard': {''''''''''''''''nan'''''''''''''''': 4, 'uuid:2f402f80-da50-11e1-9b23-0017882b9a25::upnp:rootdevice': 4}, 'nonstandard': {''''''''''''''''nan'''''''''''''''': 7, 'uuid:NetCamSensor-1_0-321401V01CE5A8::urn:Belkin:device:**': 293}}, 'status code': {'standard': {''''''''''''''''nan'''''''''''''''': 1, ''''''''''''''''nan'''''''''''''''': 1, ''''''''''''''''nan'''''''''''''''': 1, ''''''''''''''''nan'''''''''''''''': 1, 200.0: 4}, 'nonstandard': {''''''''''''''''nan'''''''''''''''': 1, ''''''''''''''''nan'''''''''''''''': 1, ''''''''''''''''nan'''''''''''''''': 1, ''''''''''''''''nan'''''''''''''''': 1, 200.0: 293, ''''''''''''''''nan'''''''''''''''': 1, ''''''''''''''''nan'''''''''''''''': 1, ''''''''''''''''nan'''''''''''''''': 1}}, 'location': {'standard': {''''''''''''''''nan'''''''''''''''': 4, 'http://192.168.1.159:80/description.xml': 4}, 'nonstandard': {''''''''''''''''nan'''''''''''''''': 7, 'http://192.168.1.165:49154/setup.xml': 203, 'http://192.168.1.165:49153/setup.xml': 90}}, 'search target': {'standard': {''''''''''''''''nan'''''''''''''''': 4, 'upnp:rootdevice': 4}, 'nonstandard': {''''''''''''''''nan'''''''''''''''': 7, 'urn:Belkin:device:**': 293}}, 'number_of_unique_flows': 297, 'nonstandard_flows': []}"
   ]
  },
  {
   "cell_type": "code",
   "execution_count": 50,
   "metadata": {},
   "outputs": [
    {
     "ename": "KeyError",
     "evalue": "'standard'",
     "output_type": "error",
     "traceback": [
      "\u001b[0;31m---------------------------------------------------------------------------\u001b[0m",
      "\u001b[0;31mKeyError\u001b[0m                                  Traceback (most recent call last)",
      "Cell \u001b[0;32mIn[50], line 8\u001b[0m\n\u001b[1;32m      2\u001b[0m \u001b[39mfor\u001b[39;00m attr, dict1 \u001b[39min\u001b[39;00m input_data\u001b[39m.\u001b[39mitems():\n\u001b[1;32m      3\u001b[0m     \u001b[39m# counter = 0\u001b[39;00m\n\u001b[1;32m      4\u001b[0m     \u001b[39m# print(attr)\u001b[39;00m\n\u001b[1;32m      5\u001b[0m     \u001b[39m# line1 = f'{attr}|'\u001b[39;00m\n\u001b[1;32m      6\u001b[0m     \u001b[39mif\u001b[39;00m \u001b[39misinstance\u001b[39m(dict1, \u001b[39mdict\u001b[39m):\n\u001b[1;32m      7\u001b[0m         \u001b[39m# output_lines.append(f\"{key}:\")\u001b[39;00m\n\u001b[0;32m----> 8\u001b[0m         val_list \u001b[39m=\u001b[39m \u001b[39mlist\u001b[39m(dict1[\u001b[39m'\u001b[39;49m\u001b[39mstandard\u001b[39;49m\u001b[39m'\u001b[39;49m]\u001b[39m.\u001b[39mkeys()) \u001b[39m+\u001b[39m \u001b[39mlist\u001b[39m(dict1[\u001b[39m'\u001b[39m\u001b[39mnonstandard\u001b[39m\u001b[39m'\u001b[39m]\u001b[39m.\u001b[39mkeys())\n\u001b[1;32m      9\u001b[0m         val_list \u001b[39m=\u001b[39m \u001b[39mlist\u001b[39m(OrderedDict\u001b[39m.\u001b[39mfromkeys(val_list))\n\u001b[1;32m     10\u001b[0m         \u001b[39m# print(f'val_list: {val_list}')\u001b[39;00m\n",
      "\u001b[0;31mKeyError\u001b[0m: 'standard'"
     ]
    }
   ],
   "source": [
    "output_lines = []\n",
    "for attr, dict1 in input_data.items():\n",
    "    # counter = 0\n",
    "    # print(attr)\n",
    "    # line1 = f'{attr}|'\n",
    "    if isinstance(dict1, dict):\n",
    "        # output_lines.append(f\"{key}:\")\n",
    "        val_list = list(dict1['standard'].keys()) + list(dict1['nonstandard'].keys())\n",
    "        val_list = list(OrderedDict.fromkeys(val_list))\n",
    "        # print(f'val_list: {val_list}')\n",
    "        counter = 0\n",
    "        for val in val_list:\n",
    "            if val in dict1[\"standard\"]:\n",
    "                std_num = dict1[\"standard\"][val]\n",
    "            else:\n",
    "                std_num = 0  \n",
    "\n",
    "            if val in dict1[\"nonstandard\"]:\n",
    "                nonstd_num = dict1[\"nonstandard\"][val]\n",
    "            else:\n",
    "                nonstd_num = 0      \n",
    "\n",
    "            if counter > 0:\n",
    "                line1 =  f'|{val}|{std_num}|{nonstd_num}|||||'\n",
    "                output_lines.append(line1)\n",
    "            else:\n",
    "                line1 = f'{attr}|{val}|{std_num}|{nonstd_num}|||||'\n",
    "                output_lines.append(line1)\n",
    "                counter += 1\n",
    "    else:\n",
    "        # output_lines.append(f\"{key}||||{values}|||||\")\n",
    "        # print(f'not a dict: {dict1}')\n",
    "        continue\n",
    "\n",
    "output_text = \"\\n\".join(output_lines)\n",
    "print(output_text)\n"
   ]
  },
  {
   "cell_type": "code",
   "execution_count": null,
   "metadata": {},
   "outputs": [],
   "source": []
  }
 ],
 "metadata": {
  "kernelspec": {
   "display_name": "Python 3",
   "language": "python",
   "name": "python3"
  },
  "language_info": {
   "codemirror_mode": {
    "name": "ipython",
    "version": 3
   },
   "file_extension": ".py",
   "mimetype": "text/x-python",
   "name": "python",
   "nbconvert_exporter": "python",
   "pygments_lexer": "ipython3",
   "version": "3.10.12"
  },
  "orig_nbformat": 4
 },
 "nbformat": 4,
 "nbformat_minor": 2
}
